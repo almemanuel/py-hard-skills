{
 "cells": [
  {
   "cell_type": "code",
   "execution_count": 1,
   "id": "1a7fa2b7",
   "metadata": {},
   "outputs": [
    {
     "name": "stderr",
     "output_type": "stream",
     "text": [
      "your 131072x1 screen size is bogus. expect trouble\n",
      "24/08/16 14:04:54 WARN Utils: Your hostname, PGONGARTI11 resolves to a loopback address: 127.0.1.1; using 172.30.40.69 instead (on interface eth0)\n",
      "24/08/16 14:04:54 WARN Utils: Set SPARK_LOCAL_IP if you need to bind to another address\n",
      "Setting default log level to \"WARN\".\n",
      "To adjust logging level use sc.setLogLevel(newLevel). For SparkR, use setLogLevel(newLevel).\n",
      "24/08/16 14:05:06 WARN NativeCodeLoader: Unable to load native-hadoop library for your platform... using builtin-java classes where applicable\n",
      "[Stage 1:=======================================>                   (2 + 1) / 3]\r"
     ]
    },
    {
     "name": "stdout",
     "output_type": "stream",
     "text": [
      "root\n",
      " |-- Regiao - Sigla: string (nullable = true)\n",
      " |-- Estado - Sigla: string (nullable = true)\n",
      " |-- Municipio: string (nullable = true)\n",
      " |-- Revenda: string (nullable = true)\n",
      " |-- CNPJ da Revenda: string (nullable = true)\n",
      " |-- Nome da Rua: string (nullable = true)\n",
      " |-- Numero Rua: string (nullable = true)\n",
      " |-- Complemento: string (nullable = true)\n",
      " |-- Bairro: string (nullable = true)\n",
      " |-- Cep: string (nullable = true)\n",
      " |-- Produto: string (nullable = true)\n",
      " |-- Data da Coleta: string (nullable = true)\n",
      " |-- Valor de Venda: string (nullable = true)\n",
      " |-- Valor de Compra: string (nullable = true)\n",
      " |-- Unidade de Medida: string (nullable = true)\n",
      " |-- Bandeira: string (nullable = true)\n",
      "\n"
     ]
    },
    {
     "name": "stderr",
     "output_type": "stream",
     "text": [
      "                                                                                \r"
     ]
    }
   ],
   "source": [
    "from pyspark.sql import SparkSession\n",
    "\n",
    "spark = (\n",
    "    SparkSession\n",
    "    .builder\n",
    "        .master(\"local[*]\")\n",
    "    .appName('spark_sql')\n",
    "    .getOrCreate()\n",
    ")\n",
    "\n",
    "# configurando as opções e lendo o csv\n",
    "df = (\n",
    "    spark\n",
    "    .read\n",
    "    .option('delimiter', ';')\n",
    "    .option('header', 'true')\n",
    "    .option('inferSchema', 'true') # tenta inferir o schema\n",
    "    .option('enconding', 'ISO-8859-1') # as vezes está especificado no arquivo\n",
    "    .csv('./precos-gasolina-etanol-10.csv') # acesso relativo ao arquivo\n",
    ")\n",
    "\n",
    "df.printSchema()"
   ]
  },
  {
   "cell_type": "code",
   "execution_count": 2,
   "id": "31abe728",
   "metadata": {},
   "outputs": [],
   "source": [
    "df.createOrReplaceTempView('combustiveis') # view temporária"
   ]
  },
  {
   "cell_type": "code",
   "execution_count": 3,
   "id": "493fdd1c",
   "metadata": {},
   "outputs": [
    {
     "name": "stderr",
     "output_type": "stream",
     "text": [
      "                                                                                \r"
     ]
    },
    {
     "name": "stdout",
     "output_type": "stream",
     "text": [
      "+--------------+--------------+---------+-------+---------------+-----------+----------+-----------+------+---+-------+--------------+--------------+---------------+-----------------+--------+\n",
      "|Regiao - Sigla|Estado - Sigla|Municipio|Revenda|CNPJ da Revenda|Nome da Rua|Numero Rua|Complemento|Bairro|Cep|Produto|Data da Coleta|Valor de Venda|Valor de Compra|Unidade de Medida|Bandeira|\n",
      "+--------------+--------------+---------+-------+---------------+-----------+----------+-----------+------+---+-------+--------------+--------------+---------------+-----------------+--------+\n",
      "+--------------+--------------+---------+-------+---------------+-----------+----------+-----------+------+---+-------+--------------+--------------+---------------+-----------------+--------+\n",
      "\n"
     ]
    }
   ],
   "source": [
    "spark.sql(\"\"\"\n",
    "    select * from combustiveis where `Valor de Compra` is not null\n",
    "\"\"\").show()"
   ]
  },
  {
   "cell_type": "code",
   "execution_count": 4,
   "id": "ab4e1b4b",
   "metadata": {},
   "outputs": [],
   "source": [
    "view_precos = spark.sql(\"\"\"\n",
    "    select\n",
    "        `Estado - Sigla`,\n",
    "        `Produto`,\n",
    "        regexp_replace(`Valor de Venda`, ',', '.') as `Valor de Venda`,\n",
    "        `Unidade de Medida`\n",
    "    from combustiveis\n",
    "\"\"\")"
   ]
  },
  {
   "cell_type": "code",
   "execution_count": 5,
   "id": "54b61eba",
   "metadata": {},
   "outputs": [
    {
     "name": "stderr",
     "output_type": "stream",
     "text": [
      "[Stage 4:>                                                          (0 + 1) / 1]\r"
     ]
    },
    {
     "name": "stdout",
     "output_type": "stream",
     "text": [
      "+--------------+------------------+--------------+-----------------+\n",
      "|Estado - Sigla|           Produto|Valor de Venda|Unidade de Medida|\n",
      "+--------------+------------------+--------------+-----------------+\n",
      "|            AL|          GASOLINA|          6.08|       R$ / litro|\n",
      "|            AL|GASOLINA ADITIVADA|          6.08|       R$ / litro|\n",
      "|            AL|            ETANOL|          4.78|       R$ / litro|\n",
      "|            AL|          GASOLINA|          5.79|       R$ / litro|\n",
      "|            AL|            ETANOL|          4.29|       R$ / litro|\n",
      "|            AL|          GASOLINA|          5.89|       R$ / litro|\n",
      "|            AL|GASOLINA ADITIVADA|          6.09|       R$ / litro|\n",
      "|            AL|            ETANOL|          4.49|       R$ / litro|\n",
      "|            AL|          GASOLINA|          5.89|       R$ / litro|\n",
      "|            AL|GASOLINA ADITIVADA|          6.09|       R$ / litro|\n",
      "|            AL|            ETANOL|          4.99|       R$ / litro|\n",
      "|            AL|          GASOLINA|          5.79|       R$ / litro|\n",
      "|            AL|GASOLINA ADITIVADA|          5.89|       R$ / litro|\n",
      "|            AL|            ETANOL|          4.59|       R$ / litro|\n",
      "|            AL|          GASOLINA|          6.19|       R$ / litro|\n",
      "|            AL|            ETANOL|          4.69|       R$ / litro|\n",
      "|            AL|          GASOLINA|          5.79|       R$ / litro|\n",
      "|            AL|GASOLINA ADITIVADA|          5.89|       R$ / litro|\n",
      "|            AL|            ETANOL|          4.19|       R$ / litro|\n",
      "|            AL|          GASOLINA|          5.79|       R$ / litro|\n",
      "+--------------+------------------+--------------+-----------------+\n",
      "only showing top 20 rows\n",
      "\n"
     ]
    },
    {
     "name": "stderr",
     "output_type": "stream",
     "text": [
      "                                                                                \r"
     ]
    }
   ],
   "source": [
    "view_precos.createOrReplaceTempView('view_precos')\n",
    "view_precos.show()"
   ]
  },
  {
   "cell_type": "code",
   "execution_count": 9,
   "id": "08bf7bcc",
   "metadata": {},
   "outputs": [
    {
     "name": "stderr",
     "output_type": "stream",
     "text": [
      "[Stage 5:>                                                          (0 + 3) / 3]\r"
     ]
    },
    {
     "name": "stdout",
     "output_type": "stream",
     "text": [
      "+--------------+------------------+-----------------+-----------+-----------+------------------+\n",
      "|Estado - Sigla|           Produto|Unidade de Medida|menor_valor|maior_valor|         diferenca|\n",
      "+--------------+------------------+-----------------+-----------+-----------+------------------+\n",
      "|            SP|GASOLINA ADITIVADA|       R$ / litro|       4.79|       8.69|3.8999999999999995|\n",
      "|            SP|            ETANOL|       R$ / litro|       2.78|       6.19|3.4100000000000006|\n",
      "|            SP|          GASOLINA|       R$ / litro|       4.59|       7.59|               3.0|\n",
      "|            PA|            ETANOL|       R$ / litro|       3.85|        6.6|2.7499999999999996|\n",
      "|            RS|            ETANOL|       R$ / litro|       3.88|       6.29|              2.41|\n",
      "|            BA|          GASOLINA|       R$ / litro|       4.69|       6.98|              2.29|\n",
      "|            SC|            ETANOL|       R$ / litro|       3.84|       5.89|              2.05|\n",
      "|            AL|            ETANOL|       R$ / litro|       3.79|        5.8|              2.01|\n",
      "|            PE|            ETANOL|       R$ / litro|       3.59|       5.59|               2.0|\n",
      "|            BA|GASOLINA ADITIVADA|       R$ / litro|       5.33|       7.29|              1.96|\n",
      "|            RS|GASOLINA ADITIVADA|       R$ / litro|       5.05|       6.99|1.9400000000000004|\n",
      "|            AM|            ETANOL|       R$ / litro|       4.47|       6.39|              1.92|\n",
      "|            CE|            ETANOL|       R$ / litro|       3.89|       5.79|               1.9|\n",
      "|            GO|          GASOLINA|       R$ / litro|       4.99|       6.89|1.8999999999999995|\n",
      "|            RS|          GASOLINA|       R$ / litro|       4.99|       6.89|1.8999999999999995|\n",
      "|            MS|GASOLINA ADITIVADA|       R$ / litro|        5.1|       6.99|1.8900000000000006|\n",
      "|            MG|GASOLINA ADITIVADA|       R$ / litro|       4.99|       6.87|              1.88|\n",
      "|            PE|          GASOLINA|       R$ / litro|       4.87|       6.75|              1.88|\n",
      "|            RO|          GASOLINA|       R$ / litro|       5.08|       6.89|1.8099999999999996|\n",
      "|            PA|          GASOLINA|       R$ / litro|       5.29|       7.09|1.7999999999999998|\n",
      "+--------------+------------------+-----------------+-----------+-----------+------------------+\n",
      "only showing top 20 rows\n",
      "\n"
     ]
    },
    {
     "name": "stderr",
     "output_type": "stream",
     "text": [
      "                                                                                \r"
     ]
    }
   ],
   "source": [
    "spark.sql(\"\"\"\n",
    "    select\n",
    "        `Estado - Sigla`,\n",
    "        `Produto`,\n",
    "        `Unidade de Medida`,\n",
    "        min(`Valor de Venda`) as menor_valor,\n",
    "        max(`Valor de Venda`) as maior_valor,\n",
    "        max(`Valor de Venda`) - min(`Valor de Venda`) as diferenca\n",
    "    from view_precos\n",
    "    group by all\n",
    "    order by diferenca DESC\n",
    "\"\"\").show()"
   ]
  }
 ],
 "metadata": {
  "kernelspec": {
   "display_name": "all_delivery-vcxmQiep",
   "language": "python",
   "name": "python3"
  },
  "language_info": {
   "codemirror_mode": {
    "name": "ipython",
    "version": 3
   },
   "file_extension": ".py",
   "mimetype": "text/x-python",
   "name": "python",
   "nbconvert_exporter": "python",
   "pygments_lexer": "ipython3",
   "version": "3.8.10"
  }
 },
 "nbformat": 4,
 "nbformat_minor": 5
}
