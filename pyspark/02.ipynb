{
 "cells": [
  {
   "cell_type": "code",
   "execution_count": 31,
   "id": "1a7fa2b7",
   "metadata": {},
   "outputs": [
    {
     "name": "stderr",
     "output_type": "stream",
     "text": [
      "24/08/16 13:38:06 WARN SparkSession: Using an existing Spark session; only runtime SQL configurations will take effect.\n",
      "[Stage 5:===================>                                       (1 + 2) / 3]\r"
     ]
    },
    {
     "name": "stdout",
     "output_type": "stream",
     "text": [
      "root\n",
      " |-- Regiao - Sigla: string (nullable = true)\n",
      " |-- Estado - Sigla: string (nullable = true)\n",
      " |-- Municipio: string (nullable = true)\n",
      " |-- Revenda: string (nullable = true)\n",
      " |-- CNPJ da Revenda: string (nullable = true)\n",
      " |-- Nome da Rua: string (nullable = true)\n",
      " |-- Numero Rua: string (nullable = true)\n",
      " |-- Complemento: string (nullable = true)\n",
      " |-- Bairro: string (nullable = true)\n",
      " |-- Cep: string (nullable = true)\n",
      " |-- Produto: string (nullable = true)\n",
      " |-- Data da Coleta: string (nullable = true)\n",
      " |-- Valor de Venda: string (nullable = true)\n",
      " |-- Valor de Compra: string (nullable = true)\n",
      " |-- Unidade de Medida: string (nullable = true)\n",
      " |-- Bandeira: string (nullable = true)\n",
      "\n"
     ]
    },
    {
     "name": "stderr",
     "output_type": "stream",
     "text": [
      "                                                                                \r"
     ]
    }
   ],
   "source": [
    "from pyspark.sql import SparkSession\n",
    "from pyspark.sql import functions as F # importante para usar as funções do spark\n",
    "\n",
    "spark = (\n",
    "    SparkSession\n",
    "    .builder\n",
    "        .master(\"local[*]\")\n",
    "    .appName('spark_dataframe_api')\n",
    "    .getOrCreate()\n",
    ")\n",
    "\n",
    "# configurando as opções e lendo o csv\n",
    "df = (\n",
    "    spark\n",
    "    .read\n",
    "    .option('delimiter', ';')\n",
    "    .option('header', 'true')\n",
    "    .option('inferSchema', 'true') # tenta inferir o schema\n",
    "    .option('enconding', 'ISO-8859-1') # as vezes está especificado no arquivo\n",
    "    .csv('./precos-gasolina-etanol-10.csv') # acesso relativo ao arquivo\n",
    ")\n",
    "\n",
    "df.printSchema()"
   ]
  },
  {
   "cell_type": "code",
   "execution_count": 35,
   "id": "68dbb39f",
   "metadata": {},
   "outputs": [
    {
     "name": "stderr",
     "output_type": "stream",
     "text": [
      "[Stage 10:>                                                         (0 + 2) / 2]\r"
     ]
    },
    {
     "name": "stdout",
     "output_type": "stream",
     "text": [
      "+--------------+--------------+---------+-------+---------------+-----------+----------+-----------+------+---+-------+--------------+--------------+---------------+-----------------+--------+\n",
      "|Regiao - Sigla|Estado - Sigla|Municipio|Revenda|CNPJ da Revenda|Nome da Rua|Numero Rua|Complemento|Bairro|Cep|Produto|Data da Coleta|Valor de Venda|Valor de Compra|Unidade de Medida|Bandeira|\n",
      "+--------------+--------------+---------+-------+---------------+-----------+----------+-----------+------+---+-------+--------------+--------------+---------------+-----------------+--------+\n",
      "+--------------+--------------+---------+-------+---------------+-----------+----------+-----------+------+---+-------+--------------+--------------+---------------+-----------------+--------+\n",
      "\n"
     ]
    },
    {
     "name": "stderr",
     "output_type": "stream",
     "text": [
      "                                                                                \r"
     ]
    }
   ],
   "source": [
    "(\n",
    "    df\n",
    "    .where( # semelhante ao where do SQL\n",
    "        F.col('Valor de Compra').isNotNull()\n",
    "    )\n",
    "    .show()\n",
    ")"
   ]
  },
  {
   "cell_type": "markdown",
   "id": "002d1e4a",
   "metadata": {},
   "source": [
    "- analisar a variação do preço do combustível em um estado"
   ]
  },
  {
   "cell_type": "code",
   "execution_count": 34,
   "id": "a0476697",
   "metadata": {},
   "outputs": [
    {
     "name": "stdout",
     "output_type": "stream",
     "text": [
      "+--------------+------------------+--------------+-----------------+\n",
      "|Estado - Sigla|           Produto|Valor de Venda|Unidade de Medida|\n",
      "+--------------+------------------+--------------+-----------------+\n",
      "|            AL|          GASOLINA|          6.08|       R$ / litro|\n",
      "|            AL|GASOLINA ADITIVADA|          6.08|       R$ / litro|\n",
      "|            AL|            ETANOL|          4.78|       R$ / litro|\n",
      "|            AL|          GASOLINA|          5.79|       R$ / litro|\n",
      "|            AL|            ETANOL|          4.29|       R$ / litro|\n",
      "|            AL|          GASOLINA|          5.89|       R$ / litro|\n",
      "|            AL|GASOLINA ADITIVADA|          6.09|       R$ / litro|\n",
      "|            AL|            ETANOL|          4.49|       R$ / litro|\n",
      "|            AL|          GASOLINA|          5.89|       R$ / litro|\n",
      "|            AL|GASOLINA ADITIVADA|          6.09|       R$ / litro|\n",
      "|            AL|            ETANOL|          4.99|       R$ / litro|\n",
      "|            AL|          GASOLINA|          5.79|       R$ / litro|\n",
      "|            AL|GASOLINA ADITIVADA|          5.89|       R$ / litro|\n",
      "|            AL|            ETANOL|          4.59|       R$ / litro|\n",
      "|            AL|          GASOLINA|          6.19|       R$ / litro|\n",
      "|            AL|            ETANOL|          4.69|       R$ / litro|\n",
      "|            AL|          GASOLINA|          5.79|       R$ / litro|\n",
      "|            AL|GASOLINA ADITIVADA|          5.89|       R$ / litro|\n",
      "|            AL|            ETANOL|          4.19|       R$ / litro|\n",
      "|            AL|          GASOLINA|          5.79|       R$ / litro|\n",
      "+--------------+------------------+--------------+-----------------+\n",
      "only showing top 20 rows\n",
      "\n"
     ]
    }
   ],
   "source": [
    "df_precos = (\n",
    "    df\n",
    "    .select('Estado - Sigla', 'Produto', 'Valor de Venda', 'Unidade de Medida')\n",
    "    .withColumn(\n",
    "        \"Valor de Venda\", # nome da coluna para criar ou manipular\n",
    "        F.regexp_replace(F.col('Valor de Venda'), ',', '.')\n",
    "        .cast('float') # atribuição\n",
    "    )\n",
    ")\n",
    "\n",
    "df_precos.show()"
   ]
  },
  {
   "cell_type": "code",
   "execution_count": 37,
   "id": "f1ec1b42",
   "metadata": {},
   "outputs": [
    {
     "name": "stderr",
     "output_type": "stream",
     "text": [
      "[Stage 14:>                                                         (0 + 3) / 3]\r"
     ]
    },
    {
     "name": "stdout",
     "output_type": "stream",
     "text": [
      "+--------------+------------------+-----------------+-----------+-----------+---------+\n",
      "|Estado - Sigla|           Produto|Unidade de Medida|menor_valor|maior_valor|diferenca|\n",
      "+--------------+------------------+-----------------+-----------+-----------+---------+\n",
      "|            SP|GASOLINA ADITIVADA|       R$ / litro|       4.79|       8.69|3.8999996|\n",
      "|            SP|            ETANOL|       R$ / litro|       2.78|       6.19|     3.41|\n",
      "|            SP|          GASOLINA|       R$ / litro|       4.59|       7.59|      3.0|\n",
      "|            PA|            ETANOL|       R$ / litro|       3.85|        6.6|     2.75|\n",
      "|            RS|            ETANOL|       R$ / litro|       3.88|       6.29|2.4099998|\n",
      "|            BA|          GASOLINA|       R$ / litro|       4.69|       6.98|     2.29|\n",
      "|            SC|            ETANOL|       R$ / litro|       3.84|       5.89|     2.05|\n",
      "|            AL|            ETANOL|       R$ / litro|       3.79|        5.8|2.0100002|\n",
      "|            PE|            ETANOL|       R$ / litro|       3.59|       5.59|2.0000002|\n",
      "|            BA|GASOLINA ADITIVADA|       R$ / litro|       5.33|       7.29|     1.96|\n",
      "|            RS|GASOLINA ADITIVADA|       R$ / litro|       5.05|       6.99|1.9399996|\n",
      "|            AM|            ETANOL|       R$ / litro|       4.47|       6.39|1.9200001|\n",
      "|            GO|          GASOLINA|       R$ / litro|       4.99|       6.89|1.9000001|\n",
      "|            RS|          GASOLINA|       R$ / litro|       4.99|       6.89|1.9000001|\n",
      "|            CE|            ETANOL|       R$ / litro|       3.89|       5.79|1.8999999|\n",
      "|            MS|GASOLINA ADITIVADA|       R$ / litro|        5.1|       6.99|1.8899999|\n",
      "|            PE|          GASOLINA|       R$ / litro|       4.87|       6.75|1.8800001|\n",
      "|            MG|GASOLINA ADITIVADA|       R$ / litro|       4.99|       6.87|1.8800001|\n",
      "|            RO|          GASOLINA|       R$ / litro|       5.08|       6.89|     1.81|\n",
      "|            PA|          GASOLINA|       R$ / litro|       5.29|       7.09|1.8000002|\n",
      "+--------------+------------------+-----------------+-----------+-----------+---------+\n",
      "only showing top 20 rows\n",
      "\n"
     ]
    },
    {
     "name": "stderr",
     "output_type": "stream",
     "text": [
      "                                                                                \r"
     ]
    }
   ],
   "source": [
    "(\n",
    "    df_precos\n",
    "    .groupBy(\n",
    "        F.col('Estado - Sigla'),\n",
    "        F.col('Produto'),\n",
    "        F.col('Unidade de Medida')\n",
    "    )\n",
    "    .agg(\n",
    "        F.min(F.col('Valor de Venda')).alias('menor_valor'),\n",
    "        F.max(F.col('Valor de Venda')).alias('maior_valor')\n",
    "    )\n",
    "    .withColumn(\n",
    "        'diferenca',\n",
    "        F.col('maior_valor') - F.col('menor_valor')\n",
    "    )\n",
    "    .orderBy('diferenca', ascending=False)\n",
    "    .show()\n",
    ")"
   ]
  }
 ],
 "metadata": {
  "kernelspec": {
   "display_name": "all_delivery-vcxmQiep",
   "language": "python",
   "name": "python3"
  },
  "language_info": {
   "codemirror_mode": {
    "name": "ipython",
    "version": 3
   },
   "file_extension": ".py",
   "mimetype": "text/x-python",
   "name": "python",
   "nbconvert_exporter": "python",
   "pygments_lexer": "ipython3",
   "version": "3.8.10"
  }
 },
 "nbformat": 4,
 "nbformat_minor": 5
}
