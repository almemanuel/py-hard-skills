{
  "cells": [
    {
      "cell_type": "markdown",
      "metadata": {
        "colab_type": "text",
        "id": "view-in-github"
      },
      "source": [
        "<a href=\"https://colab.research.google.com/github/almemanuel/ai-with-py/blob/main/machine_learning_into.ipynb\" target=\"_parent\"><img src=\"https://colab.research.google.com/assets/colab-badge.svg\" alt=\"Open In Colab\"/></a>"
      ]
    },
    {
      "cell_type": "markdown",
      "metadata": {
        "id": "y2nwbyTsCvXJ"
      },
      "source": [
        "# Machine Learning Introduction"
      ]
    },
    {
      "cell_type": "code",
      "execution_count": 1,
      "metadata": {
        "id": "tUikPKG3CmkZ"
      },
      "outputs": [],
      "source": [
        "# long hair\n",
        "# short leg\n",
        "# bark\n",
        "pig1 = [0, 1, 0]\n",
        "pig2 = [0, 1, 1]\n",
        "pig3 = [1, 1, 0]\n",
        "\n",
        "dog1 = [0, 1, 1]\n",
        "dog2 = [1, 0, 1]\n",
        "dog3 = [1, 1, 1]\n",
        "\n",
        "training_x = [pig1, pig2, pig3, dog1, dog2, dog3]\n",
        "# 0 -> dog, 1 -> pig\n",
        "training_y = [1, 1, 1, 0, 0, 0]\n",
        "\n"
      ]
    },
    {
      "cell_type": "code",
      "execution_count": 3,
      "metadata": {
        "colab": {
          "base_uri": "https://localhost:8080/"
        },
        "id": "CFuCUGKSE0hN",
        "outputId": "a87b5557-2f5c-41ef-a767-7347c890a5af"
      },
      "outputs": [
        {
          "data": {
            "text/plain": [
              "LinearSVC(C=1.0, class_weight=None, dual=True, fit_intercept=True,\n",
              "          intercept_scaling=1, loss='squared_hinge', max_iter=1000,\n",
              "          multi_class='ovr', penalty='l2', random_state=None, tol=0.0001,\n",
              "          verbose=0)"
            ]
          },
          "execution_count": 3,
          "metadata": {
            "tags": []
          },
          "output_type": "execute_result"
        }
      ],
      "source": [
        "from sklearn.svm import LinearSVC\n",
        "\n",
        "model = LinearSVC()\n",
        "model.fit(training_x, training_y)"
      ]
    },
    {
      "cell_type": "code",
      "execution_count": 4,
      "metadata": {
        "colab": {
          "base_uri": "https://localhost:8080/"
        },
        "id": "E2CGz0JTFGC0",
        "outputId": "f15930bb-7691-4a94-935d-711a139e4154"
      },
      "outputs": [
        {
          "data": {
            "text/plain": [
              "array([0])"
            ]
          },
          "execution_count": 4,
          "metadata": {
            "tags": []
          },
          "output_type": "execute_result"
        }
      ],
      "source": [
        "misterious_animal = [1, 1, 1]\n",
        "model.predict([misterious_animal])"
      ]
    },
    {
      "cell_type": "code",
      "execution_count": 5,
      "metadata": {
        "id": "dOFUPh7wFdd3"
      },
      "outputs": [],
      "source": [
        "misterious1 = [1, 1, 1]\n",
        "misterious2 = [1, 1, 0]\n",
        "misterious3 = [0, 1, 1]\n",
        "\n",
        "test_x = [misterious1, misterious2, misterious3]\n",
        "test_y = [0, 1, 1]"
      ]
    },
    {
      "cell_type": "code",
      "execution_count": 6,
      "metadata": {
        "colab": {
          "base_uri": "https://localhost:8080/"
        },
        "id": "WjkU4tAmF5l4",
        "outputId": "60ef6676-1ed2-4a52-b749-01445b5d7fa0"
      },
      "outputs": [
        {
          "data": {
            "text/plain": [
              "array([0, 1, 0])"
            ]
          },
          "execution_count": 6,
          "metadata": {
            "tags": []
          },
          "output_type": "execute_result"
        }
      ],
      "source": [
        "predictions = model.predict(test_x)\n",
        "predictions"
      ]
    },
    {
      "cell_type": "code",
      "execution_count": 7,
      "metadata": {
        "colab": {
          "base_uri": "https://localhost:8080/"
        },
        "id": "9G-M1qGmGFho",
        "outputId": "aa37f89a-a050-43a5-9147-917b1735865a"
      },
      "outputs": [
        {
          "data": {
            "text/plain": [
              "0.6666666666666666"
            ]
          },
          "execution_count": 7,
          "metadata": {
            "tags": []
          },
          "output_type": "execute_result"
        }
      ],
      "source": [
        "from sklearn.metrics import accuracy_score\n",
        "\n",
        "accuracy_score(test_y, predictions)"
      ]
    }
  ],
  "metadata": {
    "colab": {
      "authorship_tag": "ABX9TyP9JXuFNK9TIH4zv6jTWAeP",
      "include_colab_link": true,
      "name": "machine-learning-into.ipynb",
      "provenance": []
    },
    "kernelspec": {
      "display_name": "Python 3",
      "name": "python3"
    },
    "language_info": {
      "name": "python"
    }
  },
  "nbformat": 4,
  "nbformat_minor": 0
}
